{
  "nbformat": 4,
  "nbformat_minor": 0,
  "metadata": {
    "colab": {
      "provenance": [],
      "gpuType": "T4"
    },
    "kernelspec": {
      "name": "python3",
      "display_name": "Python 3"
    },
    "language_info": {
      "name": "python"
    },
    "accelerator": "GPU"
  },
  "cells": [
    {
      "cell_type": "code",
      "execution_count": null,
      "metadata": {
        "id": "KnkrlBGErgxA",
        "colab": {
          "base_uri": "https://localhost:8080/"
        },
        "outputId": "d030ef28-a8a0-4ec7-fab9-b2de2ab722a1"
      },
      "outputs": [
        {
          "output_type": "stream",
          "name": "stdout",
          "text": [
            "Requirement already satisfied: tensorflow in /usr/local/lib/python3.12/dist-packages (2.19.0)\n",
            "Requirement already satisfied: keras in /usr/local/lib/python3.12/dist-packages (3.10.0)\n",
            "Requirement already satisfied: numpy in /usr/local/lib/python3.12/dist-packages (2.0.2)\n",
            "Requirement already satisfied: absl-py>=1.0.0 in /usr/local/lib/python3.12/dist-packages (from tensorflow) (1.4.0)\n",
            "Requirement already satisfied: astunparse>=1.6.0 in /usr/local/lib/python3.12/dist-packages (from tensorflow) (1.6.3)\n",
            "Requirement already satisfied: flatbuffers>=24.3.25 in /usr/local/lib/python3.12/dist-packages (from tensorflow) (25.9.23)\n",
            "Requirement already satisfied: gast!=0.5.0,!=0.5.1,!=0.5.2,>=0.2.1 in /usr/local/lib/python3.12/dist-packages (from tensorflow) (0.6.0)\n",
            "Requirement already satisfied: google-pasta>=0.1.1 in /usr/local/lib/python3.12/dist-packages (from tensorflow) (0.2.0)\n",
            "Requirement already satisfied: libclang>=13.0.0 in /usr/local/lib/python3.12/dist-packages (from tensorflow) (18.1.1)\n",
            "Requirement already satisfied: opt-einsum>=2.3.2 in /usr/local/lib/python3.12/dist-packages (from tensorflow) (3.4.0)\n",
            "Requirement already satisfied: packaging in /usr/local/lib/python3.12/dist-packages (from tensorflow) (25.0)\n",
            "Requirement already satisfied: protobuf!=4.21.0,!=4.21.1,!=4.21.2,!=4.21.3,!=4.21.4,!=4.21.5,<6.0.0dev,>=3.20.3 in /usr/local/lib/python3.12/dist-packages (from tensorflow) (5.29.5)\n",
            "Requirement already satisfied: requests<3,>=2.21.0 in /usr/local/lib/python3.12/dist-packages (from tensorflow) (2.32.4)\n",
            "Requirement already satisfied: setuptools in /usr/local/lib/python3.12/dist-packages (from tensorflow) (75.2.0)\n",
            "Requirement already satisfied: six>=1.12.0 in /usr/local/lib/python3.12/dist-packages (from tensorflow) (1.17.0)\n",
            "Requirement already satisfied: termcolor>=1.1.0 in /usr/local/lib/python3.12/dist-packages (from tensorflow) (3.1.0)\n",
            "Requirement already satisfied: typing-extensions>=3.6.6 in /usr/local/lib/python3.12/dist-packages (from tensorflow) (4.15.0)\n",
            "Requirement already satisfied: wrapt>=1.11.0 in /usr/local/lib/python3.12/dist-packages (from tensorflow) (2.0.0)\n",
            "Requirement already satisfied: grpcio<2.0,>=1.24.3 in /usr/local/lib/python3.12/dist-packages (from tensorflow) (1.75.1)\n",
            "Requirement already satisfied: tensorboard~=2.19.0 in /usr/local/lib/python3.12/dist-packages (from tensorflow) (2.19.0)\n",
            "Requirement already satisfied: h5py>=3.11.0 in /usr/local/lib/python3.12/dist-packages (from tensorflow) (3.15.1)\n",
            "Requirement already satisfied: ml-dtypes<1.0.0,>=0.5.1 in /usr/local/lib/python3.12/dist-packages (from tensorflow) (0.5.3)\n",
            "Requirement already satisfied: rich in /usr/local/lib/python3.12/dist-packages (from keras) (13.9.4)\n",
            "Requirement already satisfied: namex in /usr/local/lib/python3.12/dist-packages (from keras) (0.1.0)\n",
            "Requirement already satisfied: optree in /usr/local/lib/python3.12/dist-packages (from keras) (0.17.0)\n",
            "Requirement already satisfied: wheel<1.0,>=0.23.0 in /usr/local/lib/python3.12/dist-packages (from astunparse>=1.6.0->tensorflow) (0.45.1)\n",
            "Requirement already satisfied: charset_normalizer<4,>=2 in /usr/local/lib/python3.12/dist-packages (from requests<3,>=2.21.0->tensorflow) (3.4.4)\n",
            "Requirement already satisfied: idna<4,>=2.5 in /usr/local/lib/python3.12/dist-packages (from requests<3,>=2.21.0->tensorflow) (3.11)\n",
            "Requirement already satisfied: urllib3<3,>=1.21.1 in /usr/local/lib/python3.12/dist-packages (from requests<3,>=2.21.0->tensorflow) (2.5.0)\n",
            "Requirement already satisfied: certifi>=2017.4.17 in /usr/local/lib/python3.12/dist-packages (from requests<3,>=2.21.0->tensorflow) (2025.10.5)\n",
            "Requirement already satisfied: markdown>=2.6.8 in /usr/local/lib/python3.12/dist-packages (from tensorboard~=2.19.0->tensorflow) (3.9)\n",
            "Requirement already satisfied: tensorboard-data-server<0.8.0,>=0.7.0 in /usr/local/lib/python3.12/dist-packages (from tensorboard~=2.19.0->tensorflow) (0.7.2)\n",
            "Requirement already satisfied: werkzeug>=1.0.1 in /usr/local/lib/python3.12/dist-packages (from tensorboard~=2.19.0->tensorflow) (3.1.3)\n",
            "Requirement already satisfied: markdown-it-py>=2.2.0 in /usr/local/lib/python3.12/dist-packages (from rich->keras) (4.0.0)\n",
            "Requirement already satisfied: pygments<3.0.0,>=2.13.0 in /usr/local/lib/python3.12/dist-packages (from rich->keras) (2.19.2)\n",
            "Requirement already satisfied: mdurl~=0.1 in /usr/local/lib/python3.12/dist-packages (from markdown-it-py>=2.2.0->rich->keras) (0.1.2)\n",
            "Requirement already satisfied: MarkupSafe>=2.1.1 in /usr/local/lib/python3.12/dist-packages (from werkzeug>=1.0.1->tensorboard~=2.19.0->tensorflow) (3.0.3)\n"
          ]
        }
      ],
      "source": [
        "# Installation dial les dépendances li khassna\n",
        "!pip install tensorflow keras numpy"
      ]
    },
    {
      "cell_type": "code",
      "source": [
        "import re\n",
        "import numpy as np\n",
        "import pickle # Bach n7effdou l'tokenizer\n",
        "\n",
        "# Keras/TensorFlow Imports\n",
        "from tensorflow.keras.models import Sequential\n",
        "from tensorflow.keras.layers import Embedding, LSTM, Dense, Dropout, Bidirectional\n",
        "from tensorflow.keras.preprocessing.text import Tokenizer\n",
        "from tensorflow.keras.preprocessing.sequence import pad_sequences\n",
        "from tensorflow.keras.utils import to_categorical\n",
        "from tensorflow.keras.optimizers import Adam"
      ],
      "metadata": {
        "id": "5qCOLDPOsW-n"
      },
      "execution_count": null,
      "outputs": []
    },
    {
      "cell_type": "code",
      "source": [
        "file_name = '1661-0 (4).txt'\n",
        "\n",
        "try:\n",
        "    # 2. Read the file\n",
        "    # We use 'encoding='utf-8'' to make sure all characters are read correctly\n",
        "    with open(file_name, 'r', encoding='utf-8') as f:\n",
        "        raw_text = f.read()\n",
        "    print(f\"✅ Successfully read '{file_name}'!\")\n",
        "\n",
        "except FileNotFoundError:\n",
        "    print(f\"❌ ERROR: File not found: '{file_name}'.\")\n",
        "    print(\"Please upload the file to Colab and run this cell again.\")\n",
        "    raw_text = \"\" # Set to empty string if error"
      ],
      "metadata": {
        "colab": {
          "base_uri": "https://localhost:8080/"
        },
        "id": "IyHRQueMsiOn",
        "outputId": "2d9c77d7-497e-41ad-f094-1934eb06ea61"
      },
      "execution_count": null,
      "outputs": [
        {
          "output_type": "stream",
          "name": "stdout",
          "text": [
            "✅ Successfully read '1661-0 (4).txt'!\n"
          ]
        }
      ]
    },
    {
      "cell_type": "code",
      "source": [
        "# 3. Define the cleaning function\n",
        "def clean_text(text):\n",
        "    # Define the start and end markers for the main content\n",
        "    start_marker = \"*** START OF THIS PROJECT GUTENBERG EBOOK THE ADVENTURES OF SHERLOCK HOLMES ***\"\n",
        "    end_marker = \"*** END OF THIS PROJECT GUTENBERG EBOOK THE ADVENTURES OF SHERLOCK HOLMES ***\"\n",
        "\n",
        "    try:\n",
        "        # Extract only the text between the markers\n",
        "        start_index = text.index(start_marker) + len(start_marker)\n",
        "        end_index = text.index(end_marker)\n",
        "        text = text[start_index:end_index]\n",
        "    except ValueError:\n",
        "        # If markers aren't found, just clean the whole text (as a fallback)\n",
        "        print(\"Note: Gutenberg start/end markers not found. Cleaning the entire file.\")\n",
        "\n",
        "    # Remove all non-alphabetic characters (keep only letters and spaces)\n",
        "    text = re.sub(r'[^a-zA-Z\\s]', '', text)\n",
        "\n",
        "    # Convert text to lowercase\n",
        "    text = text.lower()\n",
        "\n",
        "    # Replace multiple spaces (like newlines) with a single space\n",
        "    text = re.sub(r'\\s+', ' ', text).strip()\n",
        "    return text"
      ],
      "metadata": {
        "id": "gQFaX4dfE57I"
      },
      "execution_count": null,
      "outputs": []
    },
    {
      "cell_type": "code",
      "source": [
        "# 4. Clean the text (only if the file was read successfully)\n",
        "if raw_text:\n",
        "    # We create the 'cleaned_text' variable that we will use in the next steps\n",
        "    cleaned_text = clean_text(raw_text)\n",
        "    print(\"\\n✅ Step 2 Complete: Text is cleaned and ready!\")\n",
        "    print(\"\\n--- First 500 characters of cleaned text ---\")\n",
        "    print(cleaned_text[:500])\n",
        "else:\n",
        "    print(\"\\n❌ Cleaning skipped because the file was not read.\")"
      ],
      "metadata": {
        "colab": {
          "base_uri": "https://localhost:8080/"
        },
        "id": "n_dVVk72FJwl",
        "outputId": "6a316d93-4fa0-4040-bbea-ed465c07f98c"
      },
      "execution_count": null,
      "outputs": [
        {
          "output_type": "stream",
          "name": "stdout",
          "text": [
            "\n",
            "✅ Step 2 Complete: Text is cleaned and ready!\n",
            "\n",
            "--- First 500 characters of cleaned text ---\n",
            "produced by an anonymous project gutenberg volunteer and jose menendez cover the adventures of sherlock holmes by arthur conan doyle contents i a scandal in bohemia ii the redheaded league iii a case of identity iv the boscombe valley mystery v the five orange pips vi the man with the twisted lip vii the adventure of the blue carbuncle viii the adventure of the speckled band ix the adventure of the engineers thumb x the adventure of the noble bachelor xi the adventure of the beryl coronet xii th\n"
          ]
        }
      ]
    },
    {
      "cell_type": "code",
      "source": [
        "# --- STEP 3 (NEW): Tokenization and FIXED Sequence Preparation ---\n",
        "# This version is memory-efficient and avoids crashing Colab RAM.\n",
        "\n",
        "# 1. Initialize and Fit the Tokenizer (Same as before)\n",
        "tokenizer = Tokenizer()\n",
        "tokenizer.fit_on_texts([cleaned_text])\n",
        "total_words = len(tokenizer.word_index) + 1\n",
        "\n",
        "print(f\"Total unique words (Vocabulary Size): {total_words}\")\n",
        "\n",
        "# 2. Convert all text to a single list of tokens (numbers)\n",
        "# Instead of many small lists, we make one big list of the entire book\n",
        "token_list = tokenizer.texts_to_sequences([cleaned_text])[0]\n",
        "print(f\"Total tokens in the entire text: {len(token_list)}\")\n",
        "\n",
        "# 3. Define a FIXED sequence length (The most important change!)\n",
        "# We will predict the next word based on the 50 previous words.\n",
        "# You can change this number (e.g., 20, 50, 100)\n",
        "sequence_length = 50\n",
        "\n",
        "# 4. Create fixed-size input sequences (X) and outputs (y)\n",
        "X_sequences = [] # This will hold our inputs\n",
        "y_labels = []    # This will hold our outputs\n",
        "\n",
        "# Iterate through the token list with a sliding window\n",
        "for i in range(sequence_length, len(token_list)):\n",
        "    # Input (X): The sequence of 50 words\n",
        "    # Example: tokens from index [i-50] to [i]\n",
        "    X_sequences.append(token_list[i - sequence_length : i])\n",
        "\n",
        "    # Output (y): The single word that comes *after* the sequence\n",
        "    # Example: token at index [i]\n",
        "    y_labels.append(token_list[i])\n",
        "\n",
        "print(f\"Total sequences created: {len(X_sequences)}\")\n",
        "\n",
        "# 5. Convert lists to NumPy arrays (This is much smaller now!)\n",
        "# We don't need padding because all sequences are already the same length (50)\n",
        "Xs = np.array(X_sequences)\n",
        "\n",
        "# 6. Convert labels to One-Hot Encoding\n",
        "#Ys = to_categorical(y_labels, num_classes=total_words)\n",
        "Ys = np.array(y_labels)\n",
        "\n",
        "print(\"\\n✅ Step 3 Complete (Memory Efficient): Data is ready!\")\n",
        "print(f\"Shape of Inputs (Xs): {Xs.shape}\") # Should be (num_sequences, 50)\n",
        "print(f\"Shape of Outputs (Ys): {Ys.shape}\") # Should be (num_sequences, total_words)"
      ],
      "metadata": {
        "colab": {
          "base_uri": "https://localhost:8080/"
        },
        "id": "YlxtbCc7FRSl",
        "outputId": "d492f26d-d4f2-4cf6-cbf4-79aa609c5d7e"
      },
      "execution_count": null,
      "outputs": [
        {
          "output_type": "stream",
          "name": "stdout",
          "text": [
            "Total unique words (Vocabulary Size): 8331\n",
            "Total tokens in the entire text: 104402\n",
            "Total sequences created: 104352\n",
            "\n",
            "✅ Step 3 Complete (Memory Efficient): Data is ready!\n",
            "Shape of Inputs (Xs): (104352, 50)\n",
            "Shape of Outputs (Ys): (104352,)\n"
          ]
        }
      ]
    },
    {
      "cell_type": "code",
      "source": [
        "# --- STEP 4: Build the Model Architecture (Bi-LSTM) ---\n",
        "\n",
        "# We get the input dimensions from our new 'Xs' in Step 3\n",
        "# Xs.shape[1] is the length of our input sequences (which is 50)\n",
        "input_len = Xs.shape[1]\n",
        "# total_words is our vocabulary size (e.g., 8225)\n",
        "\n",
        "# 1. Initialize the Sequential model\n",
        "model = Sequential()\n",
        "\n",
        "# 2. Add the Embedding layer\n",
        "# '100' is the dimension of the embedding vector for each word.\n",
        "# 'input_length' must match our new sequence length (50)\n",
        "model.add(Embedding(total_words, 100, input_length=input_len))\n",
        "\n",
        "# 3. Add the Bidirectional LSTM layer (YOUR CUSTOMIZATION!)\n",
        "# '150' is the number of neurons (units).\n",
        "model.add(Bidirectional(LSTM(150)))\n",
        "\n",
        "# 4. Add a Dropout layer\n",
        "# This helps prevent overfitting by randomly \"turning off\" 20% of neurons.\n",
        "model.add(Dropout(0.2))\n",
        "\n",
        "# 5. Add the Final Output layer (Dense layer)\n",
        "# The number of neurons must equal 'total_words' (our vocabulary size).\n",
        "# 'softmax' activation converts the output into a probability distribution.\n",
        "model.add(Dense(total_words, activation='softmax'))\n",
        "\n",
        "# 6. Compile the model\n",
        "model.compile(\n",
        "    loss='sparse_categorical_crossentropy',  # Use this loss for multi-class classification\n",
        "    optimizer=Adam(learning_rate=0.001), # Adam is a very effective optimizer\n",
        "    metrics=['accuracy']                 # We want to monitor the 'accuracy'\n",
        ")\n",
        "\n",
        "# 7. Print the model summary\n",
        "print(\"\\n✅ Step 4 Complete: Model Architecture is Built!\")\n",
        "print(model.summary())"
      ],
      "metadata": {
        "colab": {
          "base_uri": "https://localhost:8080/",
          "height": 364
        },
        "id": "MfRwGtsjhjNL",
        "outputId": "3f12e237-e87d-470b-9191-987396d01654"
      },
      "execution_count": null,
      "outputs": [
        {
          "output_type": "stream",
          "name": "stderr",
          "text": [
            "/usr/local/lib/python3.12/dist-packages/keras/src/layers/core/embedding.py:97: UserWarning: Argument `input_length` is deprecated. Just remove it.\n",
            "  warnings.warn(\n"
          ]
        },
        {
          "output_type": "stream",
          "name": "stdout",
          "text": [
            "\n",
            "✅ Step 4 Complete: Model Architecture is Built!\n"
          ]
        },
        {
          "output_type": "display_data",
          "data": {
            "text/plain": [
              "\u001b[1mModel: \"sequential\"\u001b[0m\n"
            ],
            "text/html": [
              "<pre style=\"white-space:pre;overflow-x:auto;line-height:normal;font-family:Menlo,'DejaVu Sans Mono',consolas,'Courier New',monospace\"><span style=\"font-weight: bold\">Model: \"sequential\"</span>\n",
              "</pre>\n"
            ]
          },
          "metadata": {}
        },
        {
          "output_type": "display_data",
          "data": {
            "text/plain": [
              "┏━━━━━━━━━━━━━━━━━━━━━━━━━━━━━━━━━┳━━━━━━━━━━━━━━━━━━━━━━━━┳━━━━━━━━━━━━━━━┓\n",
              "┃\u001b[1m \u001b[0m\u001b[1mLayer (type)                   \u001b[0m\u001b[1m \u001b[0m┃\u001b[1m \u001b[0m\u001b[1mOutput Shape          \u001b[0m\u001b[1m \u001b[0m┃\u001b[1m \u001b[0m\u001b[1m      Param #\u001b[0m\u001b[1m \u001b[0m┃\n",
              "┡━━━━━━━━━━━━━━━━━━━━━━━━━━━━━━━━━╇━━━━━━━━━━━━━━━━━━━━━━━━╇━━━━━━━━━━━━━━━┩\n",
              "│ embedding (\u001b[38;5;33mEmbedding\u001b[0m)           │ ?                      │   \u001b[38;5;34m0\u001b[0m (unbuilt) │\n",
              "├─────────────────────────────────┼────────────────────────┼───────────────┤\n",
              "│ bidirectional (\u001b[38;5;33mBidirectional\u001b[0m)   │ ?                      │   \u001b[38;5;34m0\u001b[0m (unbuilt) │\n",
              "├─────────────────────────────────┼────────────────────────┼───────────────┤\n",
              "│ dropout (\u001b[38;5;33mDropout\u001b[0m)               │ ?                      │             \u001b[38;5;34m0\u001b[0m │\n",
              "├─────────────────────────────────┼────────────────────────┼───────────────┤\n",
              "│ dense (\u001b[38;5;33mDense\u001b[0m)                   │ ?                      │   \u001b[38;5;34m0\u001b[0m (unbuilt) │\n",
              "└─────────────────────────────────┴────────────────────────┴───────────────┘\n"
            ],
            "text/html": [
              "<pre style=\"white-space:pre;overflow-x:auto;line-height:normal;font-family:Menlo,'DejaVu Sans Mono',consolas,'Courier New',monospace\">┏━━━━━━━━━━━━━━━━━━━━━━━━━━━━━━━━━┳━━━━━━━━━━━━━━━━━━━━━━━━┳━━━━━━━━━━━━━━━┓\n",
              "┃<span style=\"font-weight: bold\"> Layer (type)                    </span>┃<span style=\"font-weight: bold\"> Output Shape           </span>┃<span style=\"font-weight: bold\">       Param # </span>┃\n",
              "┡━━━━━━━━━━━━━━━━━━━━━━━━━━━━━━━━━╇━━━━━━━━━━━━━━━━━━━━━━━━╇━━━━━━━━━━━━━━━┩\n",
              "│ embedding (<span style=\"color: #0087ff; text-decoration-color: #0087ff\">Embedding</span>)           │ ?                      │   <span style=\"color: #00af00; text-decoration-color: #00af00\">0</span> (unbuilt) │\n",
              "├─────────────────────────────────┼────────────────────────┼───────────────┤\n",
              "│ bidirectional (<span style=\"color: #0087ff; text-decoration-color: #0087ff\">Bidirectional</span>)   │ ?                      │   <span style=\"color: #00af00; text-decoration-color: #00af00\">0</span> (unbuilt) │\n",
              "├─────────────────────────────────┼────────────────────────┼───────────────┤\n",
              "│ dropout (<span style=\"color: #0087ff; text-decoration-color: #0087ff\">Dropout</span>)               │ ?                      │             <span style=\"color: #00af00; text-decoration-color: #00af00\">0</span> │\n",
              "├─────────────────────────────────┼────────────────────────┼───────────────┤\n",
              "│ dense (<span style=\"color: #0087ff; text-decoration-color: #0087ff\">Dense</span>)                   │ ?                      │   <span style=\"color: #00af00; text-decoration-color: #00af00\">0</span> (unbuilt) │\n",
              "└─────────────────────────────────┴────────────────────────┴───────────────┘\n",
              "</pre>\n"
            ]
          },
          "metadata": {}
        },
        {
          "output_type": "display_data",
          "data": {
            "text/plain": [
              "\u001b[1m Total params: \u001b[0m\u001b[38;5;34m0\u001b[0m (0.00 B)\n"
            ],
            "text/html": [
              "<pre style=\"white-space:pre;overflow-x:auto;line-height:normal;font-family:Menlo,'DejaVu Sans Mono',consolas,'Courier New',monospace\"><span style=\"font-weight: bold\"> Total params: </span><span style=\"color: #00af00; text-decoration-color: #00af00\">0</span> (0.00 B)\n",
              "</pre>\n"
            ]
          },
          "metadata": {}
        },
        {
          "output_type": "display_data",
          "data": {
            "text/plain": [
              "\u001b[1m Trainable params: \u001b[0m\u001b[38;5;34m0\u001b[0m (0.00 B)\n"
            ],
            "text/html": [
              "<pre style=\"white-space:pre;overflow-x:auto;line-height:normal;font-family:Menlo,'DejaVu Sans Mono',consolas,'Courier New',monospace\"><span style=\"font-weight: bold\"> Trainable params: </span><span style=\"color: #00af00; text-decoration-color: #00af00\">0</span> (0.00 B)\n",
              "</pre>\n"
            ]
          },
          "metadata": {}
        },
        {
          "output_type": "display_data",
          "data": {
            "text/plain": [
              "\u001b[1m Non-trainable params: \u001b[0m\u001b[38;5;34m0\u001b[0m (0.00 B)\n"
            ],
            "text/html": [
              "<pre style=\"white-space:pre;overflow-x:auto;line-height:normal;font-family:Menlo,'DejaVu Sans Mono',consolas,'Courier New',monospace\"><span style=\"font-weight: bold\"> Non-trainable params: </span><span style=\"color: #00af00; text-decoration-color: #00af00\">0</span> (0.00 B)\n",
              "</pre>\n"
            ]
          },
          "metadata": {}
        },
        {
          "output_type": "stream",
          "name": "stdout",
          "text": [
            "None\n"
          ]
        }
      ]
    },
    {
      "cell_type": "code",
      "source": [
        "# --- STEP 5: Train the Model ---\n",
        "\n",
        "# NOTE: Running this cell will automatically build the model, resolving the \"unbuilt\" status.\n",
        "print(\"\\nStarting Model Training...\")\n",
        "\n",
        "history = model.fit(\n",
        "    Xs,\n",
        "    Ys,\n",
        "    epochs=20,     # Number of training epochs (adjust as needed)\n",
        "    batch_size=128, # Batch size (adjust as needed)\n",
        "    verbose=1       # Display progress\n",
        ")\n",
        "\n",
        "print(\"\\n✅ Training completed!\")"
      ],
      "metadata": {
        "colab": {
          "base_uri": "https://localhost:8080/"
        },
        "id": "NIIRu7NvpcB-",
        "outputId": "b0d09132-46f7-49fe-de64-3a2a21f622e7"
      },
      "execution_count": null,
      "outputs": [
        {
          "output_type": "stream",
          "name": "stdout",
          "text": [
            "\n",
            "Starting Model Training...\n",
            "Epoch 1/20\n",
            "\u001b[1m816/816\u001b[0m \u001b[32m━━━━━━━━━━━━━━━━━━━━\u001b[0m\u001b[37m\u001b[0m \u001b[1m22s\u001b[0m 16ms/step - accuracy: 0.0564 - loss: 6.7282\n",
            "Epoch 2/20\n",
            "\u001b[1m816/816\u001b[0m \u001b[32m━━━━━━━━━━━━━━━━━━━━\u001b[0m\u001b[37m\u001b[0m \u001b[1m13s\u001b[0m 16ms/step - accuracy: 0.0889 - loss: 5.8821\n",
            "Epoch 3/20\n",
            "\u001b[1m816/816\u001b[0m \u001b[32m━━━━━━━━━━━━━━━━━━━━\u001b[0m\u001b[37m\u001b[0m \u001b[1m13s\u001b[0m 16ms/step - accuracy: 0.1227 - loss: 5.4633\n",
            "Epoch 4/20\n",
            "\u001b[1m816/816\u001b[0m \u001b[32m━━━━━━━━━━━━━━━━━━━━\u001b[0m\u001b[37m\u001b[0m \u001b[1m13s\u001b[0m 16ms/step - accuracy: 0.1369 - loss: 5.1758\n",
            "Epoch 5/20\n",
            "\u001b[1m816/816\u001b[0m \u001b[32m━━━━━━━━━━━━━━━━━━━━\u001b[0m\u001b[37m\u001b[0m \u001b[1m13s\u001b[0m 16ms/step - accuracy: 0.1518 - loss: 4.9035\n",
            "Epoch 6/20\n",
            "\u001b[1m816/816\u001b[0m \u001b[32m━━━━━━━━━━━━━━━━━━━━\u001b[0m\u001b[37m\u001b[0m \u001b[1m13s\u001b[0m 17ms/step - accuracy: 0.1647 - loss: 4.6300\n",
            "Epoch 7/20\n",
            "\u001b[1m816/816\u001b[0m \u001b[32m━━━━━━━━━━━━━━━━━━━━\u001b[0m\u001b[37m\u001b[0m \u001b[1m13s\u001b[0m 16ms/step - accuracy: 0.1816 - loss: 4.3349\n",
            "Epoch 8/20\n",
            "\u001b[1m816/816\u001b[0m \u001b[32m━━━━━━━━━━━━━━━━━━━━\u001b[0m\u001b[37m\u001b[0m \u001b[1m14s\u001b[0m 17ms/step - accuracy: 0.2097 - loss: 4.0268\n",
            "Epoch 9/20\n",
            "\u001b[1m816/816\u001b[0m \u001b[32m━━━━━━━━━━━━━━━━━━━━\u001b[0m\u001b[37m\u001b[0m \u001b[1m13s\u001b[0m 16ms/step - accuracy: 0.2460 - loss: 3.7540\n",
            "Epoch 10/20\n",
            "\u001b[1m816/816\u001b[0m \u001b[32m━━━━━━━━━━━━━━━━━━━━\u001b[0m\u001b[37m\u001b[0m \u001b[1m13s\u001b[0m 16ms/step - accuracy: 0.2843 - loss: 3.4786\n",
            "Epoch 11/20\n",
            "\u001b[1m816/816\u001b[0m \u001b[32m━━━━━━━━━━━━━━━━━━━━\u001b[0m\u001b[37m\u001b[0m \u001b[1m14s\u001b[0m 17ms/step - accuracy: 0.3164 - loss: 3.2514\n",
            "Epoch 12/20\n",
            "\u001b[1m816/816\u001b[0m \u001b[32m━━━━━━━━━━━━━━━━━━━━\u001b[0m\u001b[37m\u001b[0m \u001b[1m13s\u001b[0m 16ms/step - accuracy: 0.3480 - loss: 3.0637\n",
            "Epoch 13/20\n",
            "\u001b[1m816/816\u001b[0m \u001b[32m━━━━━━━━━━━━━━━━━━━━\u001b[0m\u001b[37m\u001b[0m \u001b[1m13s\u001b[0m 16ms/step - accuracy: 0.3726 - loss: 2.8990\n",
            "Epoch 14/20\n",
            "\u001b[1m816/816\u001b[0m \u001b[32m━━━━━━━━━━━━━━━━━━━━\u001b[0m\u001b[37m\u001b[0m \u001b[1m13s\u001b[0m 16ms/step - accuracy: 0.3985 - loss: 2.7416\n",
            "Epoch 15/20\n",
            "\u001b[1m816/816\u001b[0m \u001b[32m━━━━━━━━━━━━━━━━━━━━\u001b[0m\u001b[37m\u001b[0m \u001b[1m13s\u001b[0m 16ms/step - accuracy: 0.4185 - loss: 2.6243\n",
            "Epoch 16/20\n",
            "\u001b[1m816/816\u001b[0m \u001b[32m━━━━━━━━━━━━━━━━━━━━\u001b[0m\u001b[37m\u001b[0m \u001b[1m13s\u001b[0m 16ms/step - accuracy: 0.4409 - loss: 2.4916\n",
            "Epoch 17/20\n",
            "\u001b[1m816/816\u001b[0m \u001b[32m━━━━━━━━━━━━━━━━━━━━\u001b[0m\u001b[37m\u001b[0m \u001b[1m13s\u001b[0m 16ms/step - accuracy: 0.4629 - loss: 2.3659\n",
            "Epoch 18/20\n",
            "\u001b[1m816/816\u001b[0m \u001b[32m━━━━━━━━━━━━━━━━━━━━\u001b[0m\u001b[37m\u001b[0m \u001b[1m13s\u001b[0m 16ms/step - accuracy: 0.4863 - loss: 2.2517\n",
            "Epoch 19/20\n",
            "\u001b[1m816/816\u001b[0m \u001b[32m━━━━━━━━━━━━━━━━━━━━\u001b[0m\u001b[37m\u001b[0m \u001b[1m13s\u001b[0m 16ms/step - accuracy: 0.5019 - loss: 2.1545\n",
            "Epoch 20/20\n",
            "\u001b[1m816/816\u001b[0m \u001b[32m━━━━━━━━━━━━━━━━━━━━\u001b[0m\u001b[37m\u001b[0m \u001b[1m21s\u001b[0m 16ms/step - accuracy: 0.5221 - loss: 2.0546\n",
            "\n",
            "✅ Training completed!\n"
          ]
        }
      ]
    },
    {
      "cell_type": "code",
      "source": [
        "# --- STEP 6: Display Final Metrics and Plot History ---\n",
        "\n",
        "# 1. Display Final Metrics\n",
        "final_accuracy = history.history['accuracy'][-1]\n",
        "final_loss = history.history['loss'][-1]\n",
        "\n",
        "print(\"\\n--- FINAL TRAINING METRICS ---\")\n",
        "print(f\"Final Accuracy: {final_accuracy:.4f}\")\n",
        "print(f\"Final Loss: {final_loss:.4f}\")\n",
        "\n",
        "# 2. Plotting the training history (requires matplotlib)\n",
        "# NOTE: Make sure you have 'import matplotlib.pyplot as plt' at the top of your script\n",
        "\n",
        "import matplotlib.pyplot as plt\n",
        "\n",
        "plt.figure(figsize=(12, 5))\n",
        "\n",
        "# Plot Accuracy\n",
        "plt.subplot(1, 2, 1)\n",
        "plt.plot(history.history['accuracy'])\n",
        "plt.title('Model Accuracy Over Epochs')\n",
        "plt.ylabel('Accuracy')\n",
        "plt.xlabel('Epoch')\n",
        "\n",
        "# # Plot Loss\n",
        "plt.subplot(1, 2, 2)\n",
        "plt.plot(history.history['loss'])\n",
        "plt.title('Model Loss Over Epochs')\n",
        "plt.ylabel('Loss')\n",
        "plt.xlabel('Epoch')\n",
        "\n",
        "plt.show()\n"
      ],
      "metadata": {
        "colab": {
          "base_uri": "https://localhost:8080/",
          "height": 556
        },
        "id": "p0lM_pVExDrl",
        "outputId": "267da9c0-a67d-400e-9782-eed46f299688"
      },
      "execution_count": null,
      "outputs": [
        {
          "output_type": "stream",
          "name": "stdout",
          "text": [
            "\n",
            "--- FINAL TRAINING METRICS ---\n",
            "Final Accuracy: 0.5037\n",
            "Final Loss: 2.1314\n"
          ]
        },
        {
          "output_type": "display_data",
          "data": {
            "text/plain": [
              "<Figure size 1200x500 with 2 Axes>"
            ],
            "image/png": "[encoded data removed]"
          },
          "metadata": {}
        }
      ]
    },
    {
      "cell_type": "code",
      "source": [
        "# --- STEP 5 (Continuation): Train the Model for 20 more Epochs ---\n",
        "\n",
        "print(\"\\nStarting Model Training (Continuing from Epoch 20 to 40)...\")\n",
        "\n",
        "# On utilise un nouvel objet history pour stocker les résultats de cette session\n",
        "history_continuation = model.fit(\n",
        "    Xs,\n",
        "    Ys,\n",
        "    epochs=40,        # Le nombre total d'epochs souhaité\n",
        "    initial_epoch=20, # On commence l'entraînement à partir de l'epoch 20\n",
        "    batch_size=128,\n",
        "    verbose=1\n",
        ")\n",
        "\n",
        "# NOTE IMPORTANTE: Pour que les graphiques de l'étape 6 soient corrects,\n",
        "# vous devez fusionner les résultats de l'ancien 'history' avec le nouveau 'history_continuation'.\n",
        "# Si vous avez stocké le premier résultat dans 'history', utilisez ce code :\n",
        "\n",
        "# history.history['accuracy'].extend(history_continuation.history['accuracy'])\n",
        "# history.history['loss'].extend(history_continuation.history['loss'])\n",
        "\n",
        "print(\"\\n✅ Training continuation completed!\")\n"
      ],
      "metadata": {
        "colab": {
          "base_uri": "https://localhost:8080/"
        },
        "id": "3qE3ALHW0DC-",
        "outputId": "84413f00-4179-4078-8ead-cdad86c50082"
      },
      "execution_count": null,
      "outputs": [
        {
          "output_type": "stream",
          "name": "stdout",
          "text": [
            "\n",
            "Starting Model Training (Continuing from Epoch 20 to 40)...\n",
            "Epoch 21/40\n",
            "\u001b[1m816/816\u001b[0m \u001b[32m━━━━━━━━━━━━━━━━━━━━\u001b[0m\u001b[37m\u001b[0m \u001b[1m14s\u001b[0m 17ms/step - accuracy: 0.5370 - loss: 1.9694\n",
            "Epoch 22/40\n",
            "\u001b[1m816/816\u001b[0m \u001b[32m━━━━━━━━━━━━━━━━━━━━\u001b[0m\u001b[37m\u001b[0m \u001b[1m13s\u001b[0m 16ms/step - accuracy: 0.5583 - loss: 1.8668\n",
            "Epoch 23/40\n",
            "\u001b[1m816/816\u001b[0m \u001b[32m━━━━━━━━━━━━━━━━━━━━\u001b[0m\u001b[37m\u001b[0m \u001b[1m13s\u001b[0m 16ms/step - accuracy: 0.5715 - loss: 1.8051\n",
            "Epoch 24/40\n",
            "\u001b[1m816/816\u001b[0m \u001b[32m━━━━━━━━━━━━━━━━━━━━\u001b[0m\u001b[37m\u001b[0m \u001b[1m13s\u001b[0m 16ms/step - accuracy: 0.5863 - loss: 1.7260\n",
            "Epoch 25/40\n",
            "\u001b[1m816/816\u001b[0m \u001b[32m━━━━━━━━━━━━━━━━━━━━\u001b[0m\u001b[37m\u001b[0m \u001b[1m13s\u001b[0m 16ms/step - accuracy: 0.5995 - loss: 1.6529\n",
            "Epoch 26/40\n",
            "\u001b[1m816/816\u001b[0m \u001b[32m━━━━━━━━━━━━━━━━━━━━\u001b[0m\u001b[37m\u001b[0m \u001b[1m13s\u001b[0m 16ms/step - accuracy: 0.6151 - loss: 1.5911\n",
            "Epoch 27/40\n",
            "\u001b[1m816/816\u001b[0m \u001b[32m━━━━━━━━━━━━━━━━━━━━\u001b[0m\u001b[37m\u001b[0m \u001b[1m13s\u001b[0m 16ms/step - accuracy: 0.6242 - loss: 1.5317\n",
            "Epoch 28/40\n",
            "\u001b[1m816/816\u001b[0m \u001b[32m━━━━━━━━━━━━━━━━━━━━\u001b[0m\u001b[37m\u001b[0m \u001b[1m13s\u001b[0m 16ms/step - accuracy: 0.6388 - loss: 1.4675\n",
            "Epoch 29/40\n",
            "\u001b[1m816/816\u001b[0m \u001b[32m━━━━━━━━━━━━━━━━━━━━\u001b[0m\u001b[37m\u001b[0m \u001b[1m13s\u001b[0m 16ms/step - accuracy: 0.6482 - loss: 1.4146\n",
            "Epoch 30/40\n",
            "\u001b[1m816/816\u001b[0m \u001b[32m━━━━━━━━━━━━━━━━━━━━\u001b[0m\u001b[37m\u001b[0m \u001b[1m21s\u001b[0m 17ms/step - accuracy: 0.6590 - loss: 1.3598\n",
            "Epoch 31/40\n",
            "\u001b[1m816/816\u001b[0m \u001b[32m━━━━━━━━━━━━━━━━━━━━\u001b[0m\u001b[37m\u001b[0m \u001b[1m13s\u001b[0m 16ms/step - accuracy: 0.6687 - loss: 1.3175\n",
            "Epoch 32/40\n",
            "\u001b[1m816/816\u001b[0m \u001b[32m━━━━━━━━━━━━━━━━━━━━\u001b[0m\u001b[37m\u001b[0m \u001b[1m13s\u001b[0m 16ms/step - accuracy: 0.6753 - loss: 1.2735\n",
            "Epoch 33/40\n",
            "\u001b[1m816/816\u001b[0m \u001b[32m━━━━━━━━━━━━━━━━━━━━\u001b[0m\u001b[37m\u001b[0m \u001b[1m13s\u001b[0m 16ms/step - accuracy: 0.6903 - loss: 1.2137\n",
            "Epoch 34/40\n",
            "\u001b[1m816/816\u001b[0m \u001b[32m━━━━━━━━━━━━━━━━━━━━\u001b[0m\u001b[37m\u001b[0m \u001b[1m13s\u001b[0m 16ms/step - accuracy: 0.6996 - loss: 1.1710\n",
            "Epoch 35/40\n",
            "\u001b[1m816/816\u001b[0m \u001b[32m━━━━━━━━━━━━━━━━━━━━\u001b[0m\u001b[37m\u001b[0m \u001b[1m13s\u001b[0m 16ms/step - accuracy: 0.7027 - loss: 1.1411\n",
            "Epoch 36/40\n",
            "\u001b[1m816/816\u001b[0m \u001b[32m━━━━━━━━━━━━━━━━━━━━\u001b[0m\u001b[37m\u001b[0m \u001b[1m13s\u001b[0m 16ms/step - accuracy: 0.7136 - loss: 1.0991\n",
            "Epoch 37/40\n",
            "\u001b[1m816/816\u001b[0m \u001b[32m━━━━━━━━━━━━━━━━━━━━\u001b[0m\u001b[37m\u001b[0m \u001b[1m13s\u001b[0m 16ms/step - accuracy: 0.7226 - loss: 1.0589\n",
            "Epoch 38/40\n",
            "\u001b[1m816/816\u001b[0m \u001b[32m━━━━━━━━━━━━━━━━━━━━\u001b[0m\u001b[37m\u001b[0m \u001b[1m13s\u001b[0m 16ms/step - accuracy: 0.7292 - loss: 1.0273\n",
            "Epoch 39/40\n",
            "\u001b[1m816/816\u001b[0m \u001b[32m━━━━━━━━━━━━━━━━━━━━\u001b[0m\u001b[37m\u001b[0m \u001b[1m13s\u001b[0m 16ms/step - accuracy: 0.7366 - loss: 0.9925\n",
            "Epoch 40/40\n",
            "\u001b[1m816/816\u001b[0m \u001b[32m━━━━━━━━━━━━━━━━━━━━\u001b[0m\u001b[37m\u001b[0m \u001b[1m14s\u001b[0m 17ms/step - accuracy: 0.7419 - loss: 0.9724\n",
            "\n",
            "✅ Training continuation completed!\n"
          ]
        }
      ]
    },
    {
      "cell_type": "code",
      "source": [
        "print(\"\\n starting Model Training (continuing from 40 to 60)...\")\n",
        "\n",
        "third_model_continuation = model.fit(\n",
        "    Xs,\n",
        "    Ys,\n",
        "    epochs=60,\n",
        "    initial_epoch=40,\n",
        "    batch_size=128,\n",
        "    verbose=1\n",
        ")\n",
        "print(\"\\training contunauation complete\")"
      ],
      "metadata": {
        "colab": {
          "base_uri": "https://localhost:8080/"
        },
        "id": "90lOSD1v0Dxx",
        "outputId": "4c3f2249-8b9e-4c36-fb75-d0652985136c"
      },
      "execution_count": null,
      "outputs": [
        {
          "output_type": "stream",
          "name": "stdout",
          "text": [
            "\n",
            " starting Model Training (continuing from 40 to 60)...\n",
            "Epoch 41/60\n",
            "\u001b[1m816/816\u001b[0m \u001b[32m━━━━━━━━━━━━━━━━━━━━\u001b[0m\u001b[37m\u001b[0m \u001b[1m13s\u001b[0m 16ms/step - accuracy: 0.7513 - loss: 0.9405\n",
            "Epoch 42/60\n",
            "\u001b[1m816/816\u001b[0m \u001b[32m━━━━━━━━━━━━━━━━━━━━\u001b[0m\u001b[37m\u001b[0m \u001b[1m13s\u001b[0m 16ms/step - accuracy: 0.7554 - loss: 0.9162\n",
            "Epoch 43/60\n",
            "\u001b[1m816/816\u001b[0m \u001b[32m━━━━━━━━━━━━━━━━━━━━\u001b[0m\u001b[37m\u001b[0m \u001b[1m13s\u001b[0m 16ms/step - accuracy: 0.7627 - loss: 0.8865\n",
            "Epoch 44/60\n",
            "\u001b[1m816/816\u001b[0m \u001b[32m━━━━━━━━━━━━━━━━━━━━\u001b[0m\u001b[37m\u001b[0m \u001b[1m13s\u001b[0m 16ms/step - accuracy: 0.7676 - loss: 0.8638\n",
            "Epoch 45/60\n",
            "\u001b[1m816/816\u001b[0m \u001b[32m━━━━━━━━━━━━━━━━━━━━\u001b[0m\u001b[37m\u001b[0m \u001b[1m13s\u001b[0m 16ms/step - accuracy: 0.7713 - loss: 0.8427\n",
            "Epoch 46/60\n",
            "\u001b[1m816/816\u001b[0m \u001b[32m━━━━━━━━━━━━━━━━━━━━\u001b[0m\u001b[37m\u001b[0m \u001b[1m13s\u001b[0m 16ms/step - accuracy: 0.7774 - loss: 0.8190\n",
            "Epoch 47/60\n",
            "\u001b[1m816/816\u001b[0m \u001b[32m━━━━━━━━━━━━━━━━━━━━\u001b[0m\u001b[37m\u001b[0m \u001b[1m13s\u001b[0m 16ms/step - accuracy: 0.7801 - loss: 0.7971\n",
            "Epoch 48/60\n",
            "\u001b[1m816/816\u001b[0m \u001b[32m━━━━━━━━━━━━━━━━━━━━\u001b[0m\u001b[37m\u001b[0m \u001b[1m13s\u001b[0m 16ms/step - accuracy: 0.7883 - loss: 0.7731\n",
            "Epoch 49/60\n",
            "\u001b[1m816/816\u001b[0m \u001b[32m━━━━━━━━━━━━━━━━━━━━\u001b[0m\u001b[37m\u001b[0m \u001b[1m13s\u001b[0m 16ms/step - accuracy: 0.7910 - loss: 0.7606\n",
            "Epoch 50/60\n",
            "\u001b[1m816/816\u001b[0m \u001b[32m━━━━━━━━━━━━━━━━━━━━\u001b[0m\u001b[37m\u001b[0m \u001b[1m21s\u001b[0m 16ms/step - accuracy: 0.7962 - loss: 0.7366\n",
            "Epoch 51/60\n",
            "\u001b[1m816/816\u001b[0m \u001b[32m━━━━━━━━━━━━━━━━━━━━\u001b[0m\u001b[37m\u001b[0m \u001b[1m13s\u001b[0m 16ms/step - accuracy: 0.8019 - loss: 0.7153\n",
            "Epoch 52/60\n",
            "\u001b[1m816/816\u001b[0m \u001b[32m━━━━━━━━━━━━━━━━━━━━\u001b[0m\u001b[37m\u001b[0m \u001b[1m13s\u001b[0m 16ms/step - accuracy: 0.8031 - loss: 0.7077\n",
            "Epoch 53/60\n",
            "\u001b[1m816/816\u001b[0m \u001b[32m━━━━━━━━━━━━━━━━━━━━\u001b[0m\u001b[37m\u001b[0m \u001b[1m14s\u001b[0m 17ms/step - accuracy: 0.8063 - loss: 0.6900\n",
            "Epoch 54/60\n",
            "\u001b[1m816/816\u001b[0m \u001b[32m━━━━━━━━━━━━━━━━━━━━\u001b[0m\u001b[37m\u001b[0m \u001b[1m13s\u001b[0m 16ms/step - accuracy: 0.8090 - loss: 0.6808\n",
            "Epoch 55/60\n",
            "\u001b[1m816/816\u001b[0m \u001b[32m━━━━━━━━━━━━━━━━━━━━\u001b[0m\u001b[37m\u001b[0m \u001b[1m13s\u001b[0m 16ms/step - accuracy: 0.8137 - loss: 0.6628\n",
            "Epoch 56/60\n",
            "\u001b[1m816/816\u001b[0m \u001b[32m━━━━━━━━━━━━━━━━━━━━\u001b[0m\u001b[37m\u001b[0m \u001b[1m14s\u001b[0m 17ms/step - accuracy: 0.8187 - loss: 0.6467\n",
            "Epoch 57/60\n",
            "\u001b[1m816/816\u001b[0m \u001b[32m━━━━━━━━━━━━━━━━━━━━\u001b[0m\u001b[37m\u001b[0m \u001b[1m14s\u001b[0m 17ms/step - accuracy: 0.8211 - loss: 0.6339\n",
            "Epoch 58/60\n",
            "\u001b[1m816/816\u001b[0m \u001b[32m━━━━━━━━━━━━━━━━━━━━\u001b[0m\u001b[37m\u001b[0m \u001b[1m13s\u001b[0m 16ms/step - accuracy: 0.8180 - loss: 0.6370\n",
            "Epoch 59/60\n",
            "\u001b[1m816/816\u001b[0m \u001b[32m━━━━━━━━━━━━━━━━━━━━\u001b[0m\u001b[37m\u001b[0m \u001b[1m14s\u001b[0m 17ms/step - accuracy: 0.8233 - loss: 0.6148\n",
            "Epoch 60/60\n",
            "\u001b[1m816/816\u001b[0m \u001b[32m━━━━━━━━━━━━━━━━━━━━\u001b[0m\u001b[37m\u001b[0m \u001b[1m13s\u001b[0m 16ms/step - accuracy: 0.8256 - loss: 0.6065\n",
            "\training contunauation complete\n"
          ]
        }
      ]
    },
    {
      "cell_type": "code",
      "source": [
        "# Zid had l'importation f l'awal dyal l'notebook dyalek\n",
        "# from tensorflow.keras.preprocessing.sequence import pad_sequences\n",
        "\n",
        "def generate_text(seed_text, next_words, model, tokenizer, max_sequence_len):\n",
        "    \"\"\"\n",
        "    Generates text based on a starting phrase (seed_text).\n",
        "    \"\"\"\n",
        "    output_text = seed_text\n",
        "\n",
        "    for _ in range(next_words):\n",
        "        # 1. Tokenize the current seed text\n",
        "        cleaned_seed = seed_text.lower().strip()\n",
        "        token_list = tokenizer.texts_to_sequences([cleaned_seed])[0]\n",
        "\n",
        "        # 2. Pad the sequence to the fixed length (50)\n",
        "        # We use 'pre' padding to add zeros at the beginning,\n",
        "        # so the last 50 words are the ones the model sees.\n",
        "        token_list = pad_sequences([token_list], maxlen=max_sequence_len, padding='pre')[0]\n",
        "\n",
        "        # 3. Reshape the list to a numpy array with shape (1, 50) for the model\n",
        "        token_list = np.array(token_list).reshape(1, max_sequence_len)\n",
        "\n",
        "        # 4. Predict the next word's probabilities\n",
        "        predicted_probabilities = model.predict(token_list, verbose=0)[0]\n",
        "\n",
        "        # 5. Get the index of the word with the highest probability (the predicted word)\n",
        "        predicted_word_index = np.argmax(predicted_probabilities)\n",
        "\n",
        "        # 6. Convert the index back to a word\n",
        "        output_word = \"\"\n",
        "        for word, index in tokenizer.word_index.items():\n",
        "            if index == predicted_word_index:\n",
        "                output_word = word\n",
        "                break\n",
        "\n",
        "        # 7. Append the new word to the sequence for the next prediction\n",
        "        seed_text += \" \" + output_word\n",
        "        output_text += \" \" + output_word\n",
        "\n",
        "    return output_text\n",
        "\n",
        "# --- EXAMPLE USAGE ---\n",
        "\n",
        "# Make sure you have 'sequence_length' defined (it should be 50)\n",
        "sequence_length = 50\n",
        "seed = \"it is a capital mistake to theorize\"\n",
        "num_words_to_generate = 100\n",
        "\n",
        "generated_result = generate_text(\n",
        "    seed_text=seed,\n",
        "    next_words=num_words_to_generate,\n",
        "    model=model,\n",
        "    tokenizer=tokenizer,\n",
        "    max_sequence_len=sequence_length\n",
        ")\n",
        "\n",
        "print(\"\\n--- GENERATED TEXT ---\")\n",
        "print(generated_result)\n"
      ],
      "metadata": {
        "id": "33exPMTy4Mv2",
        "colab": {
          "base_uri": "https://localhost:8080/"
        },
        "outputId": "4410be0e-e4df-45c3-d3bb-603ad46e62bd"
      },
      "execution_count": null,
      "outputs": [
        {
          "output_type": "stream",
          "name": "stdout",
          "text": [
            "\n",
            "--- GENERATED TEXT ---\n",
            "it is a capital mistake to theorize be up and made a cry of red and with a red part of his face he could hardly have been he made his medical peculiar round to opium me that he had gone with her head for an indian weather i had no doubt that he had only been in a single man who could do he he looked with me once at the time that the inspector had been an excellent air of an instant holmes was a man who had noticed his signature in his hand and his eyes have been shattered by his face and his\n"
          ]
        }
      ]
    },
    {
      "cell_type": "code",
      "source": [
        "# --- ÉTAPE 8 : Sauvegarder le Modèle ---\n",
        "\n",
        "# Définir le nom du fichier de sauvegarde (format Keras natif)\n",
        "model_filename_new = 'sherlock_bilstm_model.keras'\n",
        "\n",
        "# Sauvegarde du modèle b l'format jdid (.keras)\n",
        "try:\n",
        "    model.save(model_filename_new)\n",
        "    print(f\"✅ Modèle sauvegardé avec succès sous l'format .keras : {model_filename_new}\")\n",
        "\n",
        "except Exception as e:\n",
        "    print(f\"❌ Erreur lors de la sauvegarde : {e}\")\n"
      ],
      "metadata": {
        "colab": {
          "base_uri": "https://localhost:8080/"
        },
        "id": "gbJuuHwZ837y",
        "outputId": "8f903e2e-ee1a-44bb-f6d4-9e5f83c682e1"
      },
      "execution_count": null,
      "outputs": [
        {
          "output_type": "stream",
          "name": "stdout",
          "text": [
            "✅ Modèle sauvegardé avec succès sous l'format .keras : sherlock_bilstm_model.keras\n"
          ]
        }
      ]
    },
    {
      "cell_type": "code",
      "source": [],
      "metadata": {
        "id": "DHzbdQ5g-LZw"
      },
      "execution_count": null,
      "outputs": []
    }
  ]
}